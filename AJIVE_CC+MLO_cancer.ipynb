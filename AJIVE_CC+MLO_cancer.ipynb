{
 "cells": [
  {
   "cell_type": "markdown",
   "id": "7ffeea92",
   "metadata": {},
   "source": [
    "# Ideas\n",
    "Training two networks - on CC and MLO images - View_Cancer dataloader to later use Breast_dataloader and ajive them to check the joint component."
   ]
  }
 ],
 "metadata": {
  "language_info": {
   "name": "python"
  }
 },
 "nbformat": 4,
 "nbformat_minor": 5
}
